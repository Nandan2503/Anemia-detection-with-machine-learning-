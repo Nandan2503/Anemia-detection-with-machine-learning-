{
 "cells": [
  {
   "cell_type": "code",
   "execution_count": 2,
   "id": "2d3d54bb-284e-447b-8593-6b439aa345e0",
   "metadata": {},
   "outputs": [],
   "source": [
    "#importing the libraries\n",
    "import pandas as pd #for data manipulation and analysis(work with structured data like table , matrices and many more.....)\n",
    "#pandas can do data transformation,cleaning\n",
    "import collections #for creating and manipulating python's collections like orderdict,defaultdict , order,container datatypes\n",
    "import numpy as np #for working with large ,multi-dimensional and matrices arrays\n",
    "import matplotlib.pyplot as plt #for creating static , animated and interactive visualizations\n",
    "%matplotlib inline\n",
    "import seaborn as sns #for statstical graphics , quick data exploration"
   ]
  },
  {
   "cell_type": "code",
   "execution_count": null,
   "id": "0ce1cd00-4cc8-44e5-9b41-768228793e29",
   "metadata": {},
   "outputs": [],
   "source": []
  }
 ],
 "metadata": {
  "kernelspec": {
   "display_name": "Python 3 (ipykernel)",
   "language": "python",
   "name": "python3"
  },
  "language_info": {
   "codemirror_mode": {
    "name": "ipython",
    "version": 3
   },
   "file_extension": ".py",
   "mimetype": "text/x-python",
   "name": "python",
   "nbconvert_exporter": "python",
   "pygments_lexer": "ipython3",
   "version": "3.12.4"
  }
 },
 "nbformat": 4,
 "nbformat_minor": 5
}
